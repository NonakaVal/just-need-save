{
 "cells": [
  {
   "cell_type": "code",
   "execution_count": 14,
   "id": "b286eb30-5a15-4a01-b9de-8271ace0027c",
   "metadata": {},
   "outputs": [],
   "source": [
    "import pandas as pd\n",
    "import pyshorteners\n",
    "import time\n",
    "import datetime"
   ]
  },
  {
   "cell_type": "code",
   "execution_count": 15,
   "id": "60815b35-c815-41b7-af49-8dce321dd5c9",
   "metadata": {},
   "outputs": [
    {
     "name": "stdout",
     "output_type": "stream",
     "text": [
      "(218, 5)\n",
      "(35, 28)\n",
      "(413, 15)\n"
     ]
    }
   ],
   "source": [
    "anuncios = pd.read_excel('data/Anuncios-2024_09_30-19_10.xlsx', sheet_name='Anúncios', header=0, skiprows=[1, 2, 3, 4, 5])\n",
    "cadastrados = pd.read_csv(\"data/Tabela de Produtos - Página25.csv\").fillna('-')\n",
    "do_banco = pd.read_csv(\"data/2024-09-30T18-13_export.csv\")\n",
    "anuncios['STATUS'] = anuncios['STATUS'].str.strip()  # Remove espaços em branco no início e no fim\n",
    "anuncios = anuncios.drop_duplicates(subset='ITEM_ID', keep='first')\n",
    "anuncios =anuncios.drop(columns=['VARIATIONS' ,'VARIATION_ID'])\n",
    "print(cadastrados.shape)\n",
    "print(do_banco.shape)\n",
    "print(anuncios.shape)"
   ]
  },
  {
   "cell_type": "code",
   "execution_count": 16,
   "id": "d1207ad1-fda3-4590-9437-c7aedf19acda",
   "metadata": {},
   "outputs": [],
   "source": [
    "categorias = {\n",
    "    'Videogames': '001',\n",
    "    'Figuras de ação': '002',\n",
    "    'Consoles de videogames': '003',\n",
    "    'Gamepads e joysticks': '004',\n",
    "    'Figuras interativas para videogames': '005',\n",
    "    'Consoles de videogames, videogames e máquinas de fliperama': '006',\n",
    "    'Relógios de pulso': '007',\n",
    "    'Skins para consoles e controles de videogames': '008',\n",
    "    'Camisetas': '009',\n",
    "    'Livros': '010',\n",
    "    'Veículos em miniatura': '011',\n",
    "    'Camisas de futebol': '012',\n",
    "    'Câmeras e barras sensoras para consoles de videogames': '013',\n",
    "    'Controles remotos multimídia para consoles de videogames': '014',\n",
    "    'Tênis': '015',\n",
    "    'Brinquedos e hobbies': '016',\n",
    "    'Produtos não classificados': '017',\n",
    "    'Controles remotos para reprodutores de vídeo': '018',\n",
    "    'Óculos de realidade virtual': '019',\n",
    "    'Relógios de parede': '020',\n",
    "    'Relógios de bolso': '021',\n",
    "    'Luminárias de mesa e escritório': '022'\n",
    "}\n"
   ]
  },
  {
   "cell_type": "code",
   "execution_count": 17,
   "id": "00061aea-2ca6-4de7-8715-fde0c3455671",
   "metadata": {},
   "outputs": [
    {
     "data": {
      "text/plain": [
       "Index(['ITEM_ID', 'TITLE', 'QUANTITY', 'CHANNEL', 'MARKETPLACE_PRICE',\n",
       "       'MSHOPS_PRICE', 'MSHOPS_PRICE_SYNC', 'CURRENCY_ID',\n",
       "       'SHIPPING_METHOD_MARKETPLACE', 'SHIPPING_METHOD_MSHOPS', 'LISTING_TYPE',\n",
       "       'FEE_PER_SALE_MARKETPLACE', 'FEE_PER_SALE_MSHOPS', 'STATUS',\n",
       "       'CATEGORY'],\n",
       "      dtype='object')"
      ]
     },
     "execution_count": 17,
     "metadata": {},
     "output_type": "execute_result"
    }
   ],
   "source": [
    "anuncios.columns"
   ]
  },
  {
   "cell_type": "code",
   "execution_count": 18,
   "id": "963da8b2-bd99-4f75-801c-082a126366a9",
   "metadata": {},
   "outputs": [
    {
     "name": "stdout",
     "output_type": "stream",
     "text": [
      "(212, 15)\n",
      "(201, 6)\n"
     ]
    }
   ],
   "source": [
    "with_sku = cadastrados['ad_code']\n",
    "with_sku_list = with_sku.tolist()\n",
    "\n",
    "\n",
    "# DataFrame com os valores desejados\n",
    "with_sku_products = anuncios[anuncios['ITEM_ID'].isin(with_sku_list)].rename(columns={'ITEM_ID':'ad_code','TITLE':'name',})\n",
    "with_sku_products_df = with_sku_products[['name', 'ad_code', 'STATUS','MARKETPLACE_PRICE',\n",
    "       'MSHOPS_PRICE', \"CATEGORY\"]]\n",
    "print(with_sku_products.shape)\n",
    "\n",
    "merged_diff = with_sku_products_df.merge(cadastrados, on=['name', 'ad_code'], how='outer').drop_duplicates(subset='ad_code', keep='first')\n",
    "\n",
    "# DataFrame com os valores desejados\n",
    "without_sku_products = anuncios[~anuncios['ITEM_ID'].isin(with_sku_list)].rename(columns={'ITEM_ID':'ad_code','TITLE':'name'})\n",
    "without_sku_products_df = without_sku_products[['name', 'ad_code', 'MARKETPLACE_PRICE',\n",
    "       'MSHOPS_PRICE', 'STATUS', \"CATEGORY\"]]\n",
    "print(without_sku_products_df.shape)\n",
    "\n",
    "\n",
    "\n",
    "\n",
    "df_concatenated = pd.concat([merged_diff, without_sku_products_df], ignore_index=True, sort=False)\n",
    "df_concatenated.shape\n",
    "produtos = df_concatenated.copy()\n",
    "\n",
    "\n",
    "produtos['category_id'] = produtos['CATEGORY'].map(categorias)"
   ]
  },
  {
   "cell_type": "code",
   "execution_count": 19,
   "id": "0d7b843d-cc29-45e6-a723-efc1f35d6a5d",
   "metadata": {},
   "outputs": [],
   "source": [
    "produtos['category_id'] = produtos['CATEGORY'].map(categorias)"
   ]
  },
  {
   "cell_type": "code",
   "execution_count": 20,
   "id": "6701733d-e1e1-4314-b90e-1c26f2d9fff0",
   "metadata": {},
   "outputs": [],
   "source": [
    "def update_product_skus(df):\n",
    "    current_year_month = datetime.datetime.now().strftime(\"%y%m\")\n",
    "    # Processa cada categoria separadamente\n",
    "    for category_id in df['category_id'].unique():\n",
    "        # Filtra o DataFrame pela categoria\n",
    "        category_mask = df['category_id'] == category_id\n",
    "        \n",
    "        # Calcula o year_month, que é fixo para este exemplo\n",
    "        year_month = current_year_month\n",
    "        \n",
    "        # Extrai os contadores existentes dos SKUs\n",
    "        existing_skus = df.loc[category_mask & df['sku'].notna(), 'sku']\n",
    "        counters = existing_skus.str.extract(f\"^{category_id}-{year_month}-(\\d{{4}})$\")[0].astype(str).dropna()\n",
    "        valid_counters = counters[counters.str.isnumeric()].astype(int)\n",
    "        \n",
    "        # Determina o próximo número de SKU\n",
    "        if not valid_counters.empty:\n",
    "            next_counter = valid_counters.max() + 1\n",
    "        else:\n",
    "            next_counter = 1\n",
    "        \n",
    "        # Atualiza SKUs nulos\n",
    "        null_skus_indices = df.index[category_mask & df['sku'].isna()]\n",
    "        for idx in null_skus_indices:\n",
    "            df.at[idx, 'sku'] = f\"{category_id}-{year_month}-{next_counter:04d}\"\n",
    "            next_counter += 1\n",
    "\n",
    "# Atualiza os SKUs\n",
    "update_product_skus(produtos)\n",
    "\n",
    "produtos\n",
    "# Preenchendo valores nulos de 'coluna1' com valores de 'coluna2'\n",
    "produtos['universal_code'] = produtos['universal_code'].fillna(produtos['sku'])\n",
    "to_export = produtos[['name', 'ad_code', 'sku', 'universal_code', 'STATUS', 'MARKETPLACE_PRICE', 'MSHOPS_PRICE',\n",
    "       'CATEGORY', 'condition']]"
   ]
  },
  {
   "cell_type": "code",
   "execution_count": 21,
   "id": "ae098e73-fbd0-497a-bdf5-3380b9721c7a",
   "metadata": {},
   "outputs": [],
   "source": [
    "to_export.to_csv(\"rela.csv\",index=False)"
   ]
  },
  {
   "cell_type": "code",
   "execution_count": null,
   "id": "84e48434-6ffe-4e01-af62-afaeee8bdc55",
   "metadata": {},
   "outputs": [],
   "source": []
  },
  {
   "cell_type": "code",
   "execution_count": null,
   "id": "f67740b6-5ecb-4b8b-bef7-3974ea2db47a",
   "metadata": {},
   "outputs": [],
   "source": [
    "do_banco.columns"
   ]
  },
  {
   "cell_type": "code",
   "execution_count": null,
   "id": "f8ce7d00-3058-4624-9126-b177743419dc",
   "metadata": {},
   "outputs": [],
   "source": [
    "to = do_banco[['titulo','ITEM_ID', 'completo',\n",
    "       'manual_instrucoes', 'serial_number', 'serial_caixa']]"
   ]
  },
  {
   "cell_type": "code",
   "execution_count": 67,
   "id": "4bae4e6f-7650-415a-b2af-eccb3c6a4f64",
   "metadata": {},
   "outputs": [],
   "source": [
    "to.to_excel(\"conferir.xlsx\", index=False)"
   ]
  },
  {
   "cell_type": "code",
   "execution_count": null,
   "id": "33a2561f-6d9a-4822-a02c-a5791c992a3d",
   "metadata": {},
   "outputs": [],
   "source": []
  }
 ],
 "metadata": {
  "kernelspec": {
   "display_name": "Python 3 (ipykernel)",
   "language": "python",
   "name": "python3"
  },
  "language_info": {
   "codemirror_mode": {
    "name": "ipython",
    "version": 3
   },
   "file_extension": ".py",
   "mimetype": "text/x-python",
   "name": "python",
   "nbconvert_exporter": "python",
   "pygments_lexer": "ipython3",
   "version": "3.11.7"
  }
 },
 "nbformat": 4,
 "nbformat_minor": 5
}
