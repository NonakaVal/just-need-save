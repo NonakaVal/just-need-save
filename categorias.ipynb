{
 "cells": [
  {
   "cell_type": "code",
   "execution_count": 1,
   "id": "7c9f6112-f3a9-4972-9256-95a04ab63625",
   "metadata": {},
   "outputs": [],
   "source": [
    "import pandas as pd"
   ]
  },
  {
   "cell_type": "code",
   "execution_count": 2,
   "id": "bfdfd84b-3b71-4106-92fa-8284c35b66ba",
   "metadata": {},
   "outputs": [],
   "source": [
    "file_path = 'data/Fichas_tecnicas-2024_09_30-11_36.xlsx'"
   ]
  },
  {
   "cell_type": "code",
   "execution_count": 8,
   "id": "e5cad967-1857-47fb-b4f3-7111775e567c",
   "metadata": {},
   "outputs": [],
   "source": [
    "planilhas = {\n",
    "    'Videogames': 'Jogos',\n",
    "    'Figuras de acao': 'Figuras de ação',\n",
    "    'Consoles de videogames': 'Consoles de videogames',\n",
    "    'Gamepads e joysticks': 'Gamepads e joysticks',\n",
    "    'Figuras interativas para vid...': 'Figuras interativas para vídeo',\n",
    "    'Consoles de videogames  vide...': 'Consoles de videogames (vídeo)',\n",
    "    'Relogios de pulso': 'Relógios de pulso',\n",
    "    'Skins para consoles e contro...': 'Skins para consoles e controles',\n",
    "    'Camisetas': 'Camisetas',\n",
    "    'Livros': 'Livros',\n",
    "    'Veiculos em miniatura': 'Veículos em miniatura',\n",
    "    'Camisas de futebol': 'Camisas de futebol',\n",
    "    'Cameras e barras sensoras pa...': 'Câmeras e barras sensores',\n",
    "    'Controles remotos multimidia...': 'Controles remotos multimídia',\n",
    "    'Tenis': 'Tênis',\n",
    "    'Brinquedos e hobbies': 'Brinquedos e hobbies',\n",
    "    'Produtos nao classificados': 'Produtos não classificados',\n",
    "    'Controles remotos para repro...': 'Controles remotos para reprodução',\n",
    "    'Oculos de realidade virtual': 'Óculos de realidade virtual',\n",
    "    'Relogios de parede': 'Relógios de parede'\n",
    "}\n",
    "\n",
    "# Lista para armazenar os DataFrames filtrados\n",
    "df_list = []\n",
    "\n",
    "# Ler e processar cada planilha\n",
    "for planilha, categoria in planilhas.items():\n",
    "    df = pd.read_excel(file_path, sheet_name=planilha).drop(index=[0, 1, 2])\n",
    "    df_filtrado = df[['ID', 'TITLE']].copy()  # Seleciona apenas as colunas 'ID' e 'TITLE'\n",
    "    df_filtrado['Categoria'] = categoria  # Adiciona a coluna 'Categoria'\n",
    "    df_list.append(df_filtrado)\n",
    "\n",
    "# Concatenar todos os DataFrames em um único DataFrame\n",
    "produtos = pd.concat(df_list, ignore_index=True)\n",
    "\n",
    "# Gerar códigos individuais numéricos para cada categoria com prefixo 'C'\n",
    "categoria_codigos = {categoria: f'C{str(i + 1).zfill(3)}'\n",
    "                     for i, categoria in enumerate(planilhas.values())}\n",
    "\n",
    "# Adicionar a coluna 'Codigo' ao DataFrame\n",
    "produtos['Codigo'] = produtos['Categoria'].map(categoria_codigos)\n",
    "produtos.rename(columns={'ID': 'ITEM_ID'}, inplace=True)\n"
   ]
  },
  {
   "cell_type": "code",
   "execution_count": 7,
   "id": "57fc3cb7-5277-4cbd-b970-00dbfc696d2e",
   "metadata": {},
   "outputs": [],
   "source": [
    "list_categorias = produtos[['Categoria', 'Codigo']].drop_duplicates()\n",
    "list_categorias.to_csv(\"data/lista-categorias.csv\", index=False)"
   ]
  },
  {
   "cell_type": "code",
   "execution_count": null,
   "id": "8642726f-bc92-444b-a9f7-7886db3b0c7d",
   "metadata": {},
   "outputs": [],
   "source": []
  }
 ],
 "metadata": {
  "kernelspec": {
   "display_name": "Python 3 (ipykernel)",
   "language": "python",
   "name": "python3"
  },
  "language_info": {
   "codemirror_mode": {
    "name": "ipython",
    "version": 3
   },
   "file_extension": ".py",
   "mimetype": "text/x-python",
   "name": "python",
   "nbconvert_exporter": "python",
   "pygments_lexer": "ipython3",
   "version": "3.11.7"
  }
 },
 "nbformat": 4,
 "nbformat_minor": 5
}
